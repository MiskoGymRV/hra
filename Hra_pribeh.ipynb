{
  "nbformat": 4,
  "nbformat_minor": 0,
  "metadata": {
    "colab": {
      "provenance": [],
      "authorship_tag": "ABX9TyPO4I5qLRyQmiPFy0LsDkW7",
      "include_colab_link": true
    },
    "kernelspec": {
      "name": "python3",
      "display_name": "Python 3"
    },
    "language_info": {
      "name": "python"
    }
  },
  "cells": [
    {
      "cell_type": "markdown",
      "metadata": {
        "id": "view-in-github",
        "colab_type": "text"
      },
      "source": [
        "<a href=\"https://colab.research.google.com/github/MiskoGymRV/hra/blob/main/Hra_pribeh.ipynb\" target=\"_parent\"><img src=\"https://colab.research.google.com/assets/colab-badge.svg\" alt=\"Open In Colab\"/></a>"
      ]
    },
    {
      "cell_type": "markdown",
      "source": [
        "# Tvorba hry\n",
        "Príbeh s dvoma možnosťami na konci. Po výbere sa vytvorí ďalšia časť príbehu.\n",
        "Vždy je len jedna správna možnosť."
      ],
      "metadata": {
        "id": "toU4SZKmgFCl"
      }
    },
    {
      "cell_type": "markdown",
      "source": [],
      "metadata": {
        "id": "M6x1J2lGhEa0"
      }
    },
    {
      "cell_type": "code",
      "source": [
        "# prompt: Napíš príbeh s dvoma možnosťami na konci. Po výbere sa vytvorí ďalšia časť príbehu. Vždy je len jedna správna možnosť.\n",
        "\n",
        "# # Tvorba hry\n",
        "# Príbeh s dvoma možnosťami na konci. Po výbere sa vytvorí ďalšia časť príbehu.\n",
        "# Vždy je len jedna správna možnosť.\n",
        "#\n",
        "\n",
        "def cast_pribehu1():\n",
        "    print(\"Prebudil si sa v tmavej miestnosti. Vôňa vlhkej zeme a zatuchnutého vzduchu ti dráždila nos.\")\n",
        "    print(\"Nemal si tušenie, ako si sa sem dostal. Všade okolo bola len nepreniknuteľná tma.\")\n",
        "    print(\"Zrazu si začul slabé škrabanie niekde nablízku.\")\n",
        "    print(\"\\nMáš dve možnosti:\")\n",
        "    print(\"1. Pokúsiš sa nájsť zdroj zvuku.\")\n",
        "    print(\"2. Zostaneš nehybne a budeš počúvať.\")\n",
        "    vyber = input(\"Zadaj číslo možnosti (1 alebo 2): \")\n",
        "    if vyber == '1':\n",
        "        cast_pribehu2_spravna()\n",
        "    elif vyber == '2':\n",
        "        cast_pribehu2_nespravna()\n",
        "    else:\n",
        "        print(\"Neplatná možnosť. Skús to znova.\")\n",
        "        cast_pribehu1()\n",
        "\n",
        "def cast_pribehu2_spravna():\n",
        "    print(\"\\nOpatrne si sa pohyboval v smere zvuku. Po chvíli si narazil na studenú kamennú stenu.\")\n",
        "    print(\"Škrabanie sa ozývalo za ňou. Hmatom si objavil malú škáru v stene.\")\n",
        "    print(\"Cez škáru presvital slabý lúč svetla a počul si tlmené hlasy.\")\n",
        "    print(\"\\nMáš dve možnosti:\")\n",
        "    print(\"1. Pokúsiš sa škáru rozšíriť a pozrieť sa, čo je na druhej strane.\")\n",
        "    print(\"2. Zaklopeš na stenu a pokúsiš sa upútať pozornosť.\")\n",
        "    vyber = input(\"Zadaj číslo možnosti (1 alebo 2): \")\n",
        "    if vyber == '1':\n",
        "        cast_pribehu3_spravna()\n",
        "    elif vyber == '2':\n",
        "        cast_pribehu3_nespravna()\n",
        "    else:\n",
        "        print(\"Neplatná možnosť. Skús to znova.\")\n",
        "        cast_pribehu2_spravna()\n",
        "\n",
        "def cast_pribehu2_nespravna():\n",
        "    print(\"\\nZostal si nehybne. Škrabanie po chvíli prestalo. Namiesto toho si počul tichý šuchot a chladný prievan.\")\n",
        "    print(\"Zrazu si pocítil ostrú bolesť na krku a všetko sa zotmelo.\")\n",
        "    print(\"\\n...Koniec. Tvoja voľba nebola správna.\")\n",
        "\n",
        "def cast_pribehu3_spravna():\n",
        "    print(\"\\nUsilovne si pracoval na rozšírení škáry. Malými kúskami kameňa a špiny si postupne uvoľňoval priestor.\")\n",
        "    print(\"Po namáhavej práci si dokázal prestrčiť hlavu a pozrieť sa von.\")\n",
        "    print(\"Videl si malú skupinku ľudí, ktorí sa skláňali nad mapou pri svetle lampáša.\")\n",
        "    print(\"Zdalo sa, že plánujú útek.\")\n",
        "    print(\"\\nMáš dve možnosti:\")\n",
        "    print(\"1. Skúsiš ich ticho osloviť a požiadať o pomoc.\")\n",
        "    print(\"2. Budeš ich chvíľu potichu pozorovať a pokúsiš sa zistiť viac informácií.\")\n",
        "    vyber = input(\"Zadaj číslo možnosti (1 alebo 2): \")\n",
        "    if vyber == '1':\n",
        "        cast_pribehu4_spravna()\n",
        "    elif vyber == '2':\n",
        "        cast_pribehu4_nespravna()\n",
        "    else:\n",
        "        print(\"Neplatná možnosť. Skús to znova.\")\n",
        "        cast_pribehu3_spravna()\n",
        "\n",
        "\n",
        "def cast_pribehu3_nespravna():\n",
        "    print(\"\\nZaklopal si na stenu. Zvuky na druhej strane okamžite prestali. Po chvíli si počul ťažké kroky a škrípanie kovu.\")\n",
        "    print(\"Dvere sa otvorili a do miestnosti vstúpila stráž.\")\n",
        "    print(\"Nemal si šancu sa brániť.\")\n",
        "    print(\"\\n...Koniec. Tvoja voľba nebola správna.\")\n",
        "\n",
        "def cast_pribehu4_spravna():\n",
        "    print(\"\\nOpatrne si prehovoril tichým šepotom. Skupina sa prekvapene otočila a okamžite na teba zamierili zbrane.\")\n",
        "    print(\"Vysvetlil si svoju situáciu a požiadal o pomoc.\")\n",
        "    print(\"Po krátkej diskusii sa rozhodli ti pomôcť. Spoločne ste našli spôsob, ako sa dostať z tvojho väzenia a pridali sa k ich plánu na útek.\")\n",
        "    print(\"\\nGratulujem! Našiel si správnu cestu a pokračuješ v príbehu.\")\n",
        "    print(\"\\n... Pokračovanie nabudúce!\") # Tu by mohla nasledovať ďalšia časť príbehu\n",
        "\n",
        "\n",
        "def cast_pribehu4_nespravna():\n",
        "    print(\"\\nPozoroval si ich. Vypočul si ich plán a zistil dôležité informácie o ich úniku. Keď odišli, pokúsil si sa využiť ich plán na vlastný útek, ale prehliadol si dôležitý detail.\")\n",
        "    print(\"Skončil si v pasci, ktorú si si nevšimol, kým nebolo neskoro.\")\n",
        "    print(\"\\n...Koniec. Tvoja voľba nebola správna.\")\n",
        "\n",
        "\n",
        "# Začiatok hry\n",
        "cast_pribehu1()\n"
      ],
      "metadata": {
        "colab": {
          "base_uri": "https://localhost:8080/"
        },
        "id": "HlpO3O2fg9gN",
        "outputId": "8d558395-afe8-443e-c577-dada9bf7e117"
      },
      "execution_count": null,
      "outputs": [
        {
          "output_type": "stream",
          "name": "stdout",
          "text": [
            "Prebudil si sa v tmavej miestnosti. Vôňa vlhkej zeme a zatuchnutého vzduchu ti dráždila nos.\n",
            "Nemal si tušenie, ako si sa sem dostal. Všade okolo bola len nepreniknuteľná tma.\n",
            "Zrazu si začul slabé škrabanie niekde nablízku.\n",
            "\n",
            "Máš dve možnosti:\n",
            "1. Pokúsiš sa nájsť zdroj zvuku.\n",
            "2. Zostaneš nehybne a budeš počúvať.\n",
            "Zadaj číslo možnosti (1 alebo 2): 1\n",
            "\n",
            "Opatrne si sa pohyboval v smere zvuku. Po chvíli si narazil na studenú kamennú stenu.\n",
            "Škrabanie sa ozývalo za ňou. Hmatom si objavil malú škáru v stene.\n",
            "Cez škáru presvital slabý lúč svetla a počul si tlmené hlasy.\n",
            "\n",
            "Máš dve možnosti:\n",
            "1. Pokúsiš sa škáru rozšíriť a pozrieť sa, čo je na druhej strane.\n",
            "2. Zaklopeš na stenu a pokúsiš sa upútať pozornosť.\n",
            "Zadaj číslo možnosti (1 alebo 2): 1\n",
            "\n",
            "Usilovne si pracoval na rozšírení škáry. Malými kúskami kameňa a špiny si postupne uvoľňoval priestor.\n",
            "Po namáhavej práci si dokázal prestrčiť hlavu a pozrieť sa von.\n",
            "Videl si malú skupinku ľudí, ktorí sa skláňali nad mapou pri svetle lampáša.\n",
            "Zdalo sa, že plánujú útek.\n",
            "\n",
            "Máš dve možnosti:\n",
            "1. Skúsiš ich ticho osloviť a požiadať o pomoc.\n",
            "2. Budeš ich chvíľu potichu pozorovať a pokúsiš sa zistiť viac informácií.\n"
          ]
        }
      ]
    }
  ]
}